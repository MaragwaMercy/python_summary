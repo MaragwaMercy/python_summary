{
 "cells": [
  {
   "cell_type": "markdown",
   "id": "35b78e2b",
   "metadata": {},
   "source": [
    "Write a program that uses input to prompt a user for their\n",
    "name and then welcomes them."
   ]
  },
  {
   "cell_type": "code",
   "execution_count": 3,
   "id": "0494381a",
   "metadata": {},
   "outputs": [
    {
     "name": "stdout",
     "output_type": "stream",
     "text": [
      "enter your name: Mercy\n",
      "hello Mercy\n"
     ]
    }
   ],
   "source": [
    "name=input('enter your name: ')\n",
    "print('hello'+' '+name)"
   ]
  },
  {
   "cell_type": "markdown",
   "id": "db8c8e53",
   "metadata": {},
   "source": [
    "Write a program to prompt the user for hours and rate per\n",
    "hour to compute gross pay"
   ]
  },
  {
   "cell_type": "code",
   "execution_count": 2,
   "id": "3d3bc85d",
   "metadata": {},
   "outputs": [
    {
     "name": "stdout",
     "output_type": "stream",
     "text": [
      "enter Hours: 35\n",
      "enter Rate: 2.75\n",
      "96.25\n"
     ]
    }
   ],
   "source": [
    "hours=input('enter Hours: ')\n",
    "hours=int(hours)\n",
    "rate=input('enter Rate: ')\n",
    "rate=float(rate)\n",
    "pay= hours*rate\n",
    "print(pay)\n"
   ]
  },
  {
   "cell_type": "code",
   "execution_count": 6,
   "id": "985546ca",
   "metadata": {},
   "outputs": [
    {
     "name": "stdout",
     "output_type": "stream",
     "text": [
      "437.5\n"
     ]
    }
   ],
   "source": [
    "hours = 35.0\n",
    "rate = 12.50\n",
    "pay = hours * rate\n",
    "print(pay)"
   ]
  },
  {
   "cell_type": "code",
   "execution_count": 11,
   "id": "8eb4382c",
   "metadata": {},
   "outputs": [
    {
     "name": "stdout",
     "output_type": "stream",
     "text": [
      "8\n",
      "8.5\n",
      "4.0\n"
     ]
    },
    {
     "data": {
      "text/plain": [
       "11"
      ]
     },
     "execution_count": 11,
     "metadata": {},
     "output_type": "execute_result"
    }
   ],
   "source": [
    "width = 17\n",
    "height = 12.0\n",
    "print(width//2)\n",
    "print(width/2.0)\n",
    "print(height/3)\n",
    "1 + 2 * 5"
   ]
  },
  {
   "cell_type": "markdown",
   "id": "c8eada1f",
   "metadata": {},
   "source": [
    "Write a program which prompts the user for a Celsius temperature, convert the temperature to Fahrenheit, and print out the\n",
    "converted temperature."
   ]
  },
  {
   "cell_type": "code",
   "execution_count": 3,
   "id": "f8942e8b",
   "metadata": {},
   "outputs": [
    {
     "name": "stdout",
     "output_type": "stream",
     "text": [
      "enter temparature in celsius:35\n",
      "87.5\n"
     ]
    }
   ],
   "source": [
    "cels_temp=input('enter temparature in celsius:')\n",
    "cels_temp=int(cels_temp)\n",
    "fahr_temp=cels_temp*2.5\n",
    "print(fahr_temp)"
   ]
  },
  {
   "cell_type": "markdown",
   "id": "f8c482c6",
   "metadata": {},
   "source": [
    "Conditional execution"
   ]
  },
  {
   "cell_type": "markdown",
   "id": "d144ef8b",
   "metadata": {},
   "source": [
    "Rewrite your pay computation to give the employee 1.5\n",
    "times the hourly rate for hours worked above 40 hours"
   ]
  },
  {
   "cell_type": "code",
   "execution_count": 5,
   "id": "97cc9429",
   "metadata": {},
   "outputs": [
    {
     "name": "stdout",
     "output_type": "stream",
     "text": [
      "Enter hours worked: 45\n",
      "Enter hourly rate: 10\n",
      "Total pay:  475.0\n"
     ]
    }
   ],
   "source": [
    "hours = float(input(\"Enter hours worked: \"))\n",
    "rate = float(input(\"Enter hourly rate: \"))\n",
    "if hours > 40:\n",
    "    overtime_hours = hours - 40\n",
    "    overtime_pay = overtime_hours * (rate * 1.5)\n",
    "    regular_pay = 40 * rate\n",
    "    pay = regular_pay + overtime_pay\n",
    "else:\n",
    "    pay = hours * rate\n",
    "\n",
    "print(\"Total pay: \", pay)"
   ]
  },
  {
   "cell_type": "markdown",
   "id": "7017e2f9",
   "metadata": {},
   "source": [
    "Rewrite your pay program using try and except so that your\n",
    "program handles non-numeric input gracefully by printing a message\n",
    "and exiting the program."
   ]
  },
  {
   "cell_type": "code",
   "execution_count": 7,
   "id": "9090b135",
   "metadata": {},
   "outputs": [
    {
     "name": "stdout",
     "output_type": "stream",
     "text": [
      "Enter hours worked: 40\n",
      "Enter hourly rate: 10\n",
      "Total pay:  400.0\n"
     ]
    }
   ],
   "source": [
    "try:\n",
    "    hours = float(input(\"Enter hours worked: \"))\n",
    "    rate = float(input(\"Enter hourly rate: \"))\n",
    "\n",
    "    if hours > 40:\n",
    "        overtime_hours = hours - 40\n",
    "        overtime_pay = overtime_hours * (rate * 1.5)\n",
    "        regular_pay = 40 * rate\n",
    "        pay = regular_pay + overtime_pay\n",
    "    else:\n",
    "        pay = hours * rate\n",
    "\n",
    "    print(\"Total pay: \", pay)\n",
    "\n",
    "except ValueError:\n",
    "    print(\"Error: please enter a numeric value\")"
   ]
  },
  {
   "cell_type": "markdown",
   "id": "f87ff20b",
   "metadata": {},
   "source": [
    "Write a program to prompt for a score between 0.0 and\n",
    "1.0. If the score is out of range, print an error message. If the score is\n",
    "between 0.0 and 1.0, print a grade using the following table:>= 0.9 A\n",
    ">= 0.8 B\n",
    ">= 0.7 C\n",
    ">= 0.6 D\n",
    "< 0.6 F"
   ]
  },
  {
   "cell_type": "code",
   "execution_count": 19,
   "id": "61a78b6b",
   "metadata": {},
   "outputs": [
    {
     "name": "stdout",
     "output_type": "stream",
     "text": [
      "enter a score5\n",
      "your score is out of range, try again\n"
     ]
    }
   ],
   "source": [
    "score=float(input('enter a score'))\n",
    "\n",
    "try:\n",
    "    if score<0.0 or score>1.0:\n",
    "        print('your score is out of range, try again')\n",
    "    elif score>=0.9:\n",
    "        print('A')\n",
    "    elif score>=0.8:\n",
    "        print('B')\n",
    "    elif score>=0.7:\n",
    "        print('C')\n",
    "    elif score>=0.6:\n",
    "        print('C')\n",
    "    elif score<0.6:\n",
    "        print('F')\n",
    "except ValueError:\n",
    "    print('try again!')\n",
    "    \n",
    "\n"
   ]
  },
  {
   "cell_type": "markdown",
   "id": "b4b9ee86",
   "metadata": {},
   "source": [
    "FUNCTIONS"
   ]
  },
  {
   "cell_type": "code",
   "execution_count": 20,
   "id": "3bbb8774",
   "metadata": {},
   "outputs": [
    {
     "name": "stdout",
     "output_type": "stream",
     "text": [
      "8\n"
     ]
    }
   ],
   "source": [
    "def addtwo(a, b):\n",
    "    added = a + b\n",
    "    return added\n",
    "x = addtwo(3, 5)\n",
    "print(x)"
   ]
  },
  {
   "cell_type": "code",
   "execution_count": 21,
   "id": "397d00c1",
   "metadata": {},
   "outputs": [
    {
     "name": "stdout",
     "output_type": "stream",
     "text": [
      "8\n"
     ]
    }
   ],
   "source": [
    "print(addtwo(3,5))"
   ]
  },
  {
   "cell_type": "markdown",
   "id": "cecb7526",
   "metadata": {},
   "source": [
    "Rewrite your pay computation with time-and-a-half for overtime and create a function called computepay which takes two parameters\n",
    "(hours and rate)"
   ]
  },
  {
   "cell_type": "code",
   "execution_count": 26,
   "id": "bca54d3f",
   "metadata": {},
   "outputs": [
    {
     "data": {
      "text/plain": [
       "475.0"
      ]
     },
     "execution_count": 26,
     "metadata": {},
     "output_type": "execute_result"
    }
   ],
   "source": [
    "\n",
    "def compute_pay(hours,rate):\n",
    "    if hours>40:\n",
    "        overtime_hours = hours - 40\n",
    "        overtime_pay = overtime_hours * (rate * 1.5)\n",
    "        regular_pay = 40 * rate\n",
    "        pay = regular_pay + overtime_pay\n",
    "    else:\n",
    "        pay = hours * rate\n",
    "    return pay\n",
    "compute_pay(45,10)\n"
   ]
  },
  {
   "cell_type": "code",
   "execution_count": 27,
   "id": "9beea15e",
   "metadata": {},
   "outputs": [
    {
     "data": {
      "text/plain": [
       "400"
      ]
     },
     "execution_count": 27,
     "metadata": {},
     "output_type": "execute_result"
    }
   ],
   "source": [
    "compute_pay(40,10)"
   ]
  },
  {
   "cell_type": "markdown",
   "id": "757db419",
   "metadata": {},
   "source": [
    "Rewrite the grade program from the previous chapter using\n",
    "a function called computegrade that takes a score as its parameter and\n",
    "returns a grade as a string."
   ]
  },
  {
   "cell_type": "code",
   "execution_count": 28,
   "id": "07c0ee3e",
   "metadata": {},
   "outputs": [
    {
     "name": "stdout",
     "output_type": "stream",
     "text": [
      "A\n"
     ]
    }
   ],
   "source": [
    "def compute_grade(score):\n",
    "    if score<0.0 or score>1.0:\n",
    "        print('your score is out of range, try again')\n",
    "    elif score>=0.9:\n",
    "        print('A')\n",
    "    elif score>=0.8:\n",
    "        print('B')\n",
    "    elif score>=0.7:\n",
    "        print('C')\n",
    "    elif score>=0.6:\n",
    "        print('C')\n",
    "    elif score<0.6:\n",
    "        print('F')\n",
    "compute_grade(0.9)\n"
   ]
  },
  {
   "cell_type": "code",
   "execution_count": 29,
   "id": "c6d4ed49",
   "metadata": {},
   "outputs": [
    {
     "name": "stdout",
     "output_type": "stream",
     "text": [
      "your score is out of range, try again\n"
     ]
    }
   ],
   "source": [
    "compute_grade(3)"
   ]
  },
  {
   "cell_type": "code",
   "execution_count": 32,
   "id": "8548ca71",
   "metadata": {},
   "outputs": [
    {
     "name": "stdout",
     "output_type": "stream",
     "text": [
      "Count:  6\n"
     ]
    }
   ],
   "source": [
    "count = 0\n",
    "for itervar in [3, 41, 12, 9, 74, 15]:\n",
    "    count = count + 1\n",
    "print('Count: ', count)"
   ]
  },
  {
   "cell_type": "code",
   "execution_count": 35,
   "id": "9a416998",
   "metadata": {},
   "outputs": [
    {
     "name": "stdout",
     "output_type": "stream",
     "text": [
      "Total:  154\n"
     ]
    }
   ],
   "source": [
    "total = 0\n",
    "for itervar in [3, 41, 12, 9, 74, 15]:\n",
    "    total = total + itervar\n",
    "print('Total: ', total)"
   ]
  },
  {
   "cell_type": "markdown",
   "id": "a216820b",
   "metadata": {},
   "source": [
    "Write a program which repeatedly reads numbers until the\n",
    "user enters “done”. Once “done” is entered, print out the total, count,and average of the numbers. If the user enters anything other than a\n",
    "number, detect their mistake using try and except and print an error\n",
    "message and skip to the next number."
   ]
  },
  {
   "cell_type": "code",
   "execution_count": 36,
   "id": "5750cfa2",
   "metadata": {},
   "outputs": [
    {
     "name": "stdout",
     "output_type": "stream",
     "text": [
      "Enter a number or 'done' to finish: 8\n",
      "Enter a number or 'done' to finish: 9\n",
      "Enter a number or 'done' to finish: 9\n",
      "Enter a number or 'done' to finish: 70\n",
      "Enter a number or 'done' to finish: 90\n",
      "Enter a number or 'done' to finish: 89\n",
      "Enter a number or 'done' to finish: done\n",
      "Total: 275.0\n",
      "Count: 6\n",
      "Average: 45.833333333333336\n"
     ]
    }
   ],
   "source": [
    "total = 0\n",
    "count = 0\n",
    "while True:\n",
    "    try:\n",
    "        number = input(\"Enter a number or 'done' to finish: \")\n",
    "        if number == 'done':\n",
    "            break\n",
    "        number = float(number)\n",
    "        total += number\n",
    "        count += 1\n",
    "    except ValueError:\n",
    "        print(\"Invalid input. Please enter a number or 'done'.\")\n",
    "\n",
    "if count == 0:\n",
    "    print(\"No numbers were entered.\")\n",
    "else:\n",
    "    print(\"Total:\", total)\n",
    "    print(\"Count:\", count)\n",
    "    print(\"Average:\", total/count)"
   ]
  },
  {
   "cell_type": "markdown",
   "id": "37f3c10f",
   "metadata": {},
   "source": [
    "Write another program that prompts for a list of numbers\n",
    "as above and at the end prints out both the maximum and minimum of\n",
    "the numbers instead of the average."
   ]
  },
  {
   "cell_type": "code",
   "execution_count": null,
   "id": "35908118",
   "metadata": {},
   "outputs": [],
   "source": [
    "total = 0\n",
    "count = 0\n",
    "while True:\n",
    "    try:\n",
    "        number = input(\"Enter a number or 'done' to finish: \")\n",
    "        if number == 'done':\n",
    "            break\n",
    "        number = float(number)\n",
    "        total += number\n",
    "        count += 1\n",
    "    except ValueError:\n",
    "        print(\"Invalid input. Please enter a number.\")\n",
    "\n",
    "if count == 0:\n",
    "    print(\"No numbers were entered.\")\n",
    "else:\n",
    "    print(\"Total:\", total)\n",
    "    print(\"Count:\", count)\n",
    "    print(min(number));print(max(number))"
   ]
  },
  {
   "cell_type": "code",
   "execution_count": 1,
   "id": "1e2adf3f",
   "metadata": {},
   "outputs": [
    {
     "name": "stdout",
     "output_type": "stream",
     "text": [
      "enter the name of a fruitbanana\n",
      "b\n",
      "a\n",
      "n\n",
      "a\n",
      "n\n",
      "a\n"
     ]
    }
   ],
   "source": [
    "fruit=str(input('enter the name of a fruit'))\n",
    "index = 0\n",
    "while index < len(fruit):\n",
    "    letter = fruit[index]\n",
    "    print(letter)\n",
    "    index = index + 1"
   ]
  },
  {
   "cell_type": "markdown",
   "id": "8a907819",
   "metadata": {},
   "source": [
    "Write a while loop that starts at the last character in the\n",
    "string and works its way backwards to the first character in the string,\n",
    "printing each letter on a separate line, except backwards."
   ]
  },
  {
   "cell_type": "code",
   "execution_count": 4,
   "id": "b8e2a1d8",
   "metadata": {
    "scrolled": false
   },
   "outputs": [
    {
     "name": "stdout",
     "output_type": "stream",
     "text": [
      "Enter a fruit banana\n",
      "a\n",
      "n\n",
      "a\n",
      "n\n",
      "a\n",
      "b\n"
     ]
    }
   ],
   "source": [
    "fruit= input(\"Enter a fruit \")\n",
    "index = len(fruit) - 1\n",
    "while index >= 0:\n",
    "    print(fruit[index])\n",
    "    index -= 1 "
   ]
  },
  {
   "cell_type": "code",
   "execution_count": 5,
   "id": "6450a900",
   "metadata": {},
   "outputs": [
    {
     "name": "stdout",
     "output_type": "stream",
     "text": [
      "enter the name of a fruitbanana\n",
      "b\n",
      "a\n",
      "n\n",
      "a\n",
      "n\n",
      "a\n"
     ]
    }
   ],
   "source": [
    "fruit=str(input('enter the name of a fruit'))\n",
    "for i in fruit:\n",
    "    print(i)"
   ]
  },
  {
   "cell_type": "code",
   "execution_count": 7,
   "id": "f3592353",
   "metadata": {},
   "outputs": [
    {
     "name": "stdout",
     "output_type": "stream",
     "text": [
      "enter the name of a fruitbanana\n",
      "b\n",
      "a\n",
      "n\n",
      "a\n",
      "n\n",
      "a\n"
     ]
    }
   ],
   "source": [
    "fruit=str(input('enter the name of a fruit'))\n",
    "for i in fruit:\n",
    "    print(i[::-1])"
   ]
  },
  {
   "cell_type": "code",
   "execution_count": 8,
   "id": "39a88c44",
   "metadata": {},
   "outputs": [
    {
     "name": "stdout",
     "output_type": "stream",
     "text": [
      "3\n"
     ]
    }
   ],
   "source": [
    "word = 'banana'\n",
    "count = 0\n",
    "for letter in word:\n",
    "    if letter == 'a':\n",
    "        count = count + 1\n",
    "print(count)"
   ]
  },
  {
   "cell_type": "markdown",
   "id": "0af58bee",
   "metadata": {},
   "source": [
    "Encapsulate this code in a function named count, and generalize it so that it accepts the string and the letter as arguments."
   ]
  },
  {
   "cell_type": "code",
   "execution_count": 13,
   "id": "795e69d8",
   "metadata": {},
   "outputs": [
    {
     "data": {
      "text/plain": [
       "2"
      ]
     },
     "execution_count": 13,
     "metadata": {},
     "output_type": "execute_result"
    }
   ],
   "source": [
    "def count(string,letter):\n",
    "    count=0\n",
    "    for i in string:\n",
    "        if i == letter:\n",
    "            count+=1\n",
    "    return count\n",
    "count('banana','n')\n",
    "    "
   ]
  },
  {
   "cell_type": "markdown",
   "id": "a55847b5",
   "metadata": {},
   "source": [
    "There is a string method called count that is similar to\n",
    "the function in the previous exercise. Read the documentation of this\n",
    "method and write an invocation that counts the number of times the letter a\n",
    "occurs in “banana”."
   ]
  },
  {
   "cell_type": "code",
   "execution_count": 15,
   "id": "e947cf88",
   "metadata": {},
   "outputs": [
    {
     "data": {
      "text/plain": [
       "3"
      ]
     },
     "execution_count": 15,
     "metadata": {},
     "output_type": "execute_result"
    }
   ],
   "source": [
    "string='banana'\n",
    "string.count('a'[:])"
   ]
  },
  {
   "cell_type": "markdown",
   "id": "1431bb73",
   "metadata": {},
   "source": [
    "Take the following Python code that stores a string:\n",
    "str = 'X-DSPAM-Confidence:0.8475'\n",
    "Use find and string slicing to extract the portion of the string after the\n",
    "colon character and then use the float function to convert the extracted\n",
    "string into a floating point number."
   ]
  },
  {
   "cell_type": "code",
   "execution_count": 20,
   "id": "ad4c7d58",
   "metadata": {},
   "outputs": [
    {
     "name": "stdout",
     "output_type": "stream",
     "text": [
      "18\n"
     ]
    }
   ],
   "source": [
    "string = 'X-DSPAM-Confidence:0.8475'\n",
    "postn=string.find(':')\n",
    "print(postn)   "
   ]
  },
  {
   "cell_type": "code",
   "execution_count": 22,
   "id": "c6cb5e25",
   "metadata": {},
   "outputs": [
    {
     "name": "stdout",
     "output_type": "stream",
     "text": [
      "0.8475\n"
     ]
    }
   ],
   "source": [
    "number=float(string[19:])\n",
    "print(number)"
   ]
  },
  {
   "cell_type": "code",
   "execution_count": null,
   "id": "c36b881d",
   "metadata": {},
   "outputs": [],
   "source": []
  }
 ],
 "metadata": {
  "kernelspec": {
   "display_name": "Python 3 (ipykernel)",
   "language": "python",
   "name": "python3"
  },
  "language_info": {
   "codemirror_mode": {
    "name": "ipython",
    "version": 3
   },
   "file_extension": ".py",
   "mimetype": "text/x-python",
   "name": "python",
   "nbconvert_exporter": "python",
   "pygments_lexer": "ipython3",
   "version": "3.9.13"
  }
 },
 "nbformat": 4,
 "nbformat_minor": 5
}
